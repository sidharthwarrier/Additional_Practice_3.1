{
 "cells": [
  {
   "cell_type": "markdown",
   "metadata": {},
   "source": [
    "<p>1) Write a python program which creates a class named Cone and write a\n",
    "function calculate_area which calculates the area of the Cone.</p>\n",
    " <br>Sample Execution:</br>\n",
    " <br>Please enter the radius of the cone: 4</br>\n",
    " <br>Please enter the height of the cone: 5</br>\n",
    " <br>Area of a cone with radius: 4.00 and height: 5.00 is: 83.73</br>"
   ]
  },
  {
   "cell_type": "code",
   "execution_count": 9,
   "metadata": {},
   "outputs": [
    {
     "name": "stdout",
     "output_type": "stream",
     "text": [
      "Please enter the radius of the cone: 4\n",
      "Please enter the height of the cone:5\n",
      "Area of a cone with radius: 4.0 and height: 5.0 is: 130.66 squnits\n"
     ]
    }
   ],
   "source": [
    "#import math for square root\n",
    "import math as m\n",
    "#Create class cone\n",
    "class Cone:\n",
    "#initialise constructor    \n",
    "    def __init__(self,radius,height):\n",
    "        self.r=radius\n",
    "        self.h=height\n",
    "        self.pi=3.14\n",
    "#Define function to calculate area        \n",
    "    def calculate_area(self):\n",
    "        area=(self.pi*self.r)*(self.r+(m.sqrt((self.h*self.h + self.r*self.r))))\n",
    "        return area\n",
    "#Take input from user    \n",
    "radius=float(input(\"Please enter the radius of the cone: \"))\n",
    "height=float(input(\"Please enter the height of the cone:\"))\n",
    "#Create class object\n",
    "ob1=Cone(radius,height)\n",
    "#Call function to calculate area and get result\n",
    "area_result=ob1.calculate_area()\n",
    "#Print result\n",
    "print(\"Area of a cone with radius: {} and height: {} is: {} squnits\".format(radius,height,round(area_result,2)))\n"
   ]
  },
  {
   "cell_type": "markdown",
   "metadata": {},
   "source": [
    "<p>2) Define a class MathOperation which implements pow(x,n) without using\n",
    "python's in-built pow() method</p>\n",
    " <br>Sample Execution:</br>\n",
    " <br>M = MathOperation()</br>\n",
    " <br>print(M.pow(2, 3))</br>\n",
    " <br>8</br>\n",
    " <br>print(M.pow(5, -3))</br>\n",
    " <br>0.008</br>\n",
    " <br>print(M.pow(-2, 5))</br>\n",
    " <br>-32</br>\n",
    " <br>print(M.pow(-5, -3))</br>\n",
    " <br>-0.008</br>\n",
    " <br>print(M.pow(20000,0))</br>\n",
    " <br>1</br>"
   ]
  },
  {
   "cell_type": "code",
   "execution_count": 21,
   "metadata": {},
   "outputs": [
    {
     "name": "stdout",
     "output_type": "stream",
     "text": [
      "Enter value for x :5\n",
      "Enter value for y :-3\n",
      "0.008\n"
     ]
    }
   ],
   "source": [
    "#Define class\n",
    "class MathOperation:    \n",
    "    def __init__(self):\n",
    "        self.x=0\n",
    "        self.n=0\n",
    "    def pow(self,x,n):\n",
    "        result=x**n\n",
    "        return result\n",
    "#Initialise Class object\n",
    "M=MathOperation()\n",
    "#Take input from user\n",
    "x=int(input(\"Enter value for x :\"))\n",
    "n=int(input(\"Enter value for y :\"))\n",
    "print(M.pow(x,n))\n",
    "    "
   ]
  },
  {
   "cell_type": "markdown",
   "metadata": {},
   "source": [
    "<p>3) Write a python program that creates a class Base and Derived. Use inbuilt\n",
    "function issubclass and isinstance which gives boolean results.(True or\n",
    "False)</p>\n",
    " <br>Check:\n",
    " <br>Derived class is a subclass of Base class which will return true</br>\n",
    " <br>Base class is a subclass of Derived class which will return false</br>\n",
    " <br>Base class is an instance of Derived class which will return false</br>\n",
    " <br>Derived class is an instance of Base class which will return true</br>"
   ]
  },
  {
   "cell_type": "code",
   "execution_count": 8,
   "metadata": {},
   "outputs": [
    {
     "name": "stdout",
     "output_type": "stream",
     "text": [
      "Derived class is a subclass of Base class : True\n",
      "Base class is a subclass of Derived class : False\n",
      "Base class is an instance of Derived class : False\n",
      "Derived class is an instance of Base class : True\n"
     ]
    }
   ],
   "source": [
    "#Define calss\n",
    "class Base:\n",
    "    def __init__(self):\n",
    "        pass\n",
    "class Derived(Base):\n",
    "    def __init__(self):\n",
    "        pass\n",
    "#Create Objects\n",
    "ob1=Base()\n",
    "ob2=Derived()\n",
    "#Check for condition and print ouput\n",
    "print(\"Derived class is a subclass of Base class : {}\".format(issubclass(Derived,Base)))\n",
    "print(\"Base class is a subclass of Derived class : {}\".format(issubclass(Base,Derived)))\n",
    "print(\"Base class is an instance of Derived class : {}\".format(isinstance(ob1,Derived)))\n",
    "print(\"Derived class is an instance of Base class : {}\".format(isinstance(ob2,Base)))\n",
    "\n",
    "\n",
    "\n"
   ]
  },
  {
   "cell_type": "markdown",
   "metadata": {},
   "source": [
    "<p>4) Write a python program that creates base class Person which has two\n",
    "methods</p>\n",
    " <br>def ____init____(self, first, last)</br>\n",
    " <br>def __str__(self)</br>\n",
    " <p>Also create a derived class named Employee which uses the base class\n",
    "method “def __str__(self)” using “super()” to concatenate first name with last name</p>"
   ]
  },
  {
   "cell_type": "code",
   "execution_count": 1,
   "metadata": {},
   "outputs": [
    {
     "name": "stdout",
     "output_type": "stream",
     "text": [
      "Enter first name sidharth \n",
      "Enter last name warrier\n",
      "Fullname is sidharth warrier\n"
     ]
    }
   ],
   "source": [
    "#Define base class\n",
    "class Person:\n",
    "    def __init__(self,first,last):\n",
    "        self.first=first\n",
    "        self.last=last\n",
    "    def __str__(self):\n",
    "        name=self.first+self.last\n",
    "        return name\n",
    "    \n",
    "#Define subclass    \n",
    "class Employee(Person):\n",
    "    def __init__(self,fname,lname):\n",
    "        self.fname=fname\n",
    "        self.lname=lname\n",
    "        super().__init__(fname,lname)\n",
    "        super().__str__()\n",
    "#Take user input\n",
    "fname=input(\"Enter first name \")\n",
    "lname=input(\"Enter last name \")\n",
    "#Create class object\n",
    "ob1=Employee(fname,lname)\n",
    "#print output\n",
    "print(\"Fullname is {}\".format(ob1))"
   ]
  },
  {
   "cell_type": "code",
   "execution_count": null,
   "metadata": {},
   "outputs": [],
   "source": []
  }
 ],
 "metadata": {
  "kernelspec": {
   "display_name": "Python 3",
   "language": "python",
   "name": "python3"
  },
  "language_info": {
   "codemirror_mode": {
    "name": "ipython",
    "version": 3
   },
   "file_extension": ".py",
   "mimetype": "text/x-python",
   "name": "python",
   "nbconvert_exporter": "python",
   "pygments_lexer": "ipython3",
   "version": "3.6.5"
  }
 },
 "nbformat": 4,
 "nbformat_minor": 2
}
